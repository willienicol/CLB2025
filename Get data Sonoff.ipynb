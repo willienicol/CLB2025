{
 "cells": [
  {
   "cell_type": "markdown",
   "id": "284ed5ee",
   "metadata": {},
   "source": [
    "Python code please. Please import the following 10 csv files. Extract all data that have a time and temperature value, column 1 and colum 2, ignore other columns. First row is the header. Use following names:\n",
    "\n",
    "T1: 'ambient',\n",
    "T2: 'soilcold',\n",
    "T3: 'c2l',\n",
    "T4: 'c2g', \n",
    "T5: 'c2t',\n",
    "T6: 'c2s', \n",
    "T7: 'c3l', \n",
    "T8: 'c3g', \n",
    "T9: 'cst', \n",
    "T10: 'c3s'\n",
    "\n",
    "Define fixed timerange for all sets given user input. Generate a single csv file with column1 temp range and other 10 colums T1-T10. Keep code short and simple. No fancy stuff"
   ]
  },
  {
   "cell_type": "code",
   "execution_count": null,
   "id": "1a263ae3",
   "metadata": {},
   "outputs": [],
   "source": [
    "import pandas as pd\n",
    "\n",
    "# User input for time range\n",
    "start = input(\"Enter start time (YYYY-MM-DD HH:MM:SS): \")\n",
    "end = input(\"Enter end time (YYYY-MM-DD HH:MM:SS): \")\n",
    "\n",
    "# Create master time index\n",
    "time_range = pd.date_range(start, end, freq='T')  # Minutely frequency\n",
    "master_df = pd.DataFrame(index=time_range)\n",
    "\n",
    "# File to column mapping\n",
    "file_map = {\n",
    "    'ambient': 'T1',\n",
    "    'soilcold': 'T2',\n",
    "    'c2l': 'T3',\n",
    "    'c2g': 'T4',\n",
    "    'c2t': 'T5',\n",
    "    'c2s': 'T6',\n",
    "    'c3l': 'T7',\n",
    "    'c3g': 'T8',\n",
    "    'cst': 'T9',\n",
    "    'c3s': 'T10'\n",
    "}\n",
    "\n",
    "# Process each file\n",
    "for name, col in file_map.items():\n",
    "    df = pd.read_csv(f\"{name}.csv\", usecols=[0,1], header=0, names=['time', 'temp'])\n",
    "    df['time'] = pd.to_datetime(df['time'])\n",
    "    df = df.dropna().set_index('time')['temp']\n",
    "    master_df[col] = df.reindex(time_range).interpolate(method='time')\n",
    "\n",
    "# Save output\n",
    "master_df.to_csv('combined_temperatures.csv')\n",
    "print(\"File saved: combined_temperatures.csv\")"
   ]
  },
  {
   "cell_type": "code",
   "execution_count": null,
   "id": "6a7e1e07",
   "metadata": {},
   "outputs": [],
   "source": []
  }
 ],
 "metadata": {
  "kernelspec": {
   "display_name": "Python 3 (ipykernel)",
   "language": "python",
   "name": "python3"
  },
  "language_info": {
   "codemirror_mode": {
    "name": "ipython",
    "version": 3
   },
   "file_extension": ".py",
   "mimetype": "text/x-python",
   "name": "python",
   "nbconvert_exporter": "python",
   "pygments_lexer": "ipython3",
   "version": "3.9.13"
  }
 },
 "nbformat": 4,
 "nbformat_minor": 5
}
