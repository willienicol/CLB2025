{
 "cells": [
  {
   "cell_type": "markdown",
   "id": "ace226ad",
   "metadata": {},
   "source": [
    "## CLB321 manuals\n",
    "\n",
    "\n",
    "### 1. Heat transfer\n",
    "\n",
    "* [Heat transfer](https://nbviewer.org/github/willienicol/CLB2025/blob/main/Heattransfermanual.ipynb)\n",
    "\n",
    "### 2. Kinetics\n",
    "\n",
    "* [Kinetics](https://nbviewer.org/github/willienicol/CLB2025/blob/main/Kineticsmanual2025.ipynb)\n",
    "\n"
   ]
  },
  {
   "cell_type": "code",
   "execution_count": null,
   "id": "bc328273",
   "metadata": {},
   "outputs": [],
   "source": []
  }
 ],
 "metadata": {
  "kernelspec": {
   "display_name": "Python 3 (ipykernel)",
   "language": "python",
   "name": "python3"
  },
  "language_info": {
   "codemirror_mode": {
    "name": "ipython",
    "version": 3
   },
   "file_extension": ".py",
   "mimetype": "text/x-python",
   "name": "python",
   "nbconvert_exporter": "python",
   "pygments_lexer": "ipython3",
   "version": "3.9.13"
  }
 },
 "nbformat": 4,
 "nbformat_minor": 5
}
