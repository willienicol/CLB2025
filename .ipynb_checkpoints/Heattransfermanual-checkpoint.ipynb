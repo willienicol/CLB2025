{
 "cells": [
  {
   "cell_type": "markdown",
   "id": "a08eff4e",
   "metadata": {},
   "source": [
    "# Heat Transfer Practical:\n",
    "\n",
    "(_published 5 Aug_) \n"
   ]
  },
  {
   "cell_type": "markdown",
   "id": "238461a8",
   "metadata": {},
   "source": [
    "## Introduction\n",
    "\n",
    "Okay students. Most of you completed CBI 310 and are familiar with the SLUMBAG project on anaerobic digestion. For those who still need to take CBI 310, the project focuses on developing an affordable biogas (cooking gas) system from organic waste for African informal settlements. We're currently prototyping this on the UP experimental farm using an 800L digester bag partially buried in the ground. Here is a picture of the the 'big babies':\n",
    "\n",
    "<img src=\"pic2.png\" width=\"850\" />\n",
    "\n",
    "One major challenge in prototype development is temperature control. Since townships lack electricity, solar energy is our only heat source. Consequently, the critical question is whether sufficient biogas can be produced during winter. Our analysis indicates that sustained digestion requires an average daily temperature ≥22°C. July's average air temperature is approximately 11°C – making solar heat capture essential.\n",
    "\n",
    "You'll assist by studying a full-scale water-based thermal model of the digester at the UP experimental farm. All temperature data will be logged remotely, with your primary focus on data modeling, interpretation, and winter operational projections. Note: You'll need to visit the farm (5 minutes from campus) for equipment familiarization and to induce a thermal step-change during your 10-day data collection period.\n",
    "\n",
    "<img src=\"pic3.png\" width=\"650\" />\n",
    "\n",
    "<img src=\"pic5.png\" width=\"450\" />\n"
   ]
  },
  {
   "cell_type": "markdown",
   "id": "bb1a0338",
   "metadata": {},
   "source": [
    "## How will it work?\n",
    "\n",
    "Your group will collect data from both experimental setups over a 10-day period, running from Monday to the following Wednesday.The joint analysis session and executive report will follow afterwards.\n",
    "\n",
    "### 📅 Data Collection Timeline  \n",
    "- **Duration**: 10 days (Monday → Following Wednesday)  \n",
    "- **Overlap Period**: Days 1-3 (Mon-Wed) shared with rotating groups  \n",
    "- **Critical Dates**:  \n",
    "  - `Week 1 Wednesday 11:00`: Mandatory on-site meeting (see schedule)  \n",
    "  - `Week 1 Friday`: Thermal step-change intervention (*selected members*)  \n",
    "  \n",
    "  \n",
    "### 📋 Deliverables\n",
    "\n",
    "### 1. 🗣️ Joint Analysis Session\n",
    "- **Format**: 2-hour session with William + peer group  \n",
    "- **Purpose**: Model critique & validation  \n",
    "- **Participants**: Your group + another project group  \n",
    "\n",
    "### 2. 📄 Executive Report\n",
    "- **Content**: Consolidated findings (≤3 pages)  \n",
    "- **Deadline**: 48 hours post-feedback session  \n",
    "- **Required elements**:  \n",
    "  •  Model calibration results  \n",
    "  •  Winter-operations projections  \n",
    "  •  Peer-feedback integration  \n",
    "  \n",
    "### 3. 📅 Schedule\n",
    "\n",
    "<img src=\"pic4.png\" width=\"850\" />"
   ]
  },
  {
   "cell_type": "markdown",
   "id": "1cd14591",
   "metadata": {},
   "source": [
    "## How to model the ‘Slumbug’\n",
    "\n",
    "To initiate the modeling approach, we propose assuming homogeneous temperatures in these distinct domains:  \n",
    "- **Digestate/water liquid (D)**  \n",
    "- **Tent enclosure (T)**  \n",
    "- **Soil matrix (S)**  \n",
    "- **Biogas/air headspace (G)**  \n",
    "- **Ambient air (A)** \n",
    "\n",
    "<img src=\"pic8.png\" width=\"850\" />\n",
    "\n",
    "### Temperature Measurements\n",
    "- All indicated temperatures (D, T, S, G, A) will be experimentally measured  \n",
    "- Measurements will exhibit **diurnal cycles**:  \n",
    "  - Daytime temperature increase  \n",
    "  - Nighttime temperature decrease  \n",
    "- This cyclic pattern will be clearly visible in the time-series data  \n",
    "\n",
    "### Step 1: Model **T<sub>D</sub>** cycles\n",
    " \n",
    "Your first aim will be to get a model that fit the diurnal cycles of **T<sub>D</sub>**. For the first step we want to use the other measured temperatures as input to the model. You are aiming for something like this: \n",
    "\n",
    "<img src=\"pic5.png\" width=\"450\" />\n",
    "\n",
    "The objective of the fit is to minimise the temperature difference between the model and experiment. Determine the absolute temperature difference on an hourly basis $|\\Delta T|$. The average value of  $|\\Delta T|$ over the 10 day period will quantify the goodness of your fit. Ensure to calculate as you will be required to disclose your value in the feedback session.\n",
    "\n",
    "For step 1 the only temperature inputs to the model will be **T<sub>G</sub>** and **T<sub>S</sub>**. You will also need some input for sun radiance (q). At this stage we only have graphs of the illuminance. I will send you the radiance graphs in this format:\n",
    "\n",
    "<img src=\"pic9.png\" width=\"650\" />\n",
    "\n",
    "Note that on a sunny day the shape of the curve is almost identical on a daily basis. The minor ups and downs won't affect your model, you just need the outline of the illuminance shape. To digitize the data I used [webplotdigitizer](https://web.eecs.utk.edu/~dcostine/personal/PowerDeviceLib/DigiTest/index.html), you merely upload the picture, define axes ranges and click on graph to generate a CSV file that you can import to Python.\n",
    "\n",
    "The basic model equation will be given by:\n",
    "\n",
    "$$m_D Cp_w \\frac{dT_D}{dt}= \\frac{k_1}{\\Delta L} A_1(T_S -T_D)+h_1 A_2(T_T-T_G)+aq-\\lambda \\Delta H_{vap} $$\n",
    "\n"
   ]
  },
  {
   "cell_type": "markdown",
   "id": "aa361e88",
   "metadata": {},
   "source": [
    "Note that $k_1$ is the thermal conductivity of the soil. The $\\Delta L$ can be approximated as 0.4m for a start, but take this parameter as a fitted parameter. The heat transfer between the liquid-gas interface is given by $h_1$ another fitted paramenter. To convert the illuminance to actual heat input into the liquid use the paramenter $a$. This parameter will incorporate the net energy absorbtion into the liquid. Lastly you can extend your model to incorporate the condensation/evaporation occuring. The $\\lambda$ parameter is the rate of evaporation/consensation. To determine this you can assume that the gas is saturated with water at all times, so higher temperatures will force evaporation and you will be able to calculate the mass of liquid converting into vapour per time or the vapour turning into liquid depending on the time of day. We assume that the amount of condensation/evaporation is very small compared to $m_D$ and that $m_D$ remains relatively constant. **Only include evaporation and condensation into the model if you have solved and fitted the model without the $\\lambda \\Delta H_{vap}$ term**  "
   ]
  },
  {
   "cell_type": "markdown",
   "id": "c739c917",
   "metadata": {},
   "source": [
    "### Extending the model\n",
    "\n",
    "Instead of taking the gas temperature **T<sub>G</sub>** as an input, we can extend the model to include gas chamber. For this a mass balance over the gas chamber will have to be included in the model, while the heat transfer from the tent will have to be incorporated into the model. "
   ]
  },
  {
   "cell_type": "markdown",
   "id": "9bbac3d1",
   "metadata": {},
   "source": [
    "### Getting started with your model\n",
    "\n",
    "When constructing your model, note that it will involve solving differential equations over a 10-day period. Follow these key steps:\n",
    "\n",
    "**1) Parameter Initialization:**\n",
    "\n",
    "Begin by establishing realistic estimates for all equation parameters. Refine these iteratively during model calibration.\n",
    "\n",
    "**2) Precision in Calculations:**\n",
    "\n",
    "Ensure rigorous unit conversions and accurate area computations throughout the implementation.\n",
    "\n",
    "**3) Time-Dependent Input Handling:**\n",
    "Incorporate measured temperature and radiance data as time-varying inputs. Implement a dedicated interpolation function that:\n",
    "\n",
    "Accepts timestamped field measurements\n",
    "\n",
    "Performs linear interpolation between data points\n",
    "\n",
    "Returns values for any specific time within the 10-day range\n",
    "\n",
    "**4) Model Integration:**\n",
    "\n",
    "Design your differential equations to call this interpolation function when requiring temperature/radiance inputs during simulations.\n",
    "\n",
    "**5) Data Utilization Strategy:**\n",
    "\n",
    "Distinguish between:\n",
    "\n",
    "Inputs to the model: External measurements driving simulations\n",
    "\n",
    "Validation metrics: Independent measurements (e.g., **T<sub>D</sub>**) reserved for testing model accuracy\n"
   ]
  },
  {
   "cell_type": "markdown",
   "id": "017bb3cd",
   "metadata": {},
   "source": [
    "### Dimensions of the bag\n",
    "\n",
    "Hole length: 225 cm\n",
    "\n",
    "Hole depth: 55 cm\n",
    "\n",
    "Hole width: 90 cm\n",
    "\n",
    "Tent length: 300 cm\n",
    "\n",
    "Tent width: 180cm\n",
    "\n",
    "### Temperature measurements\n",
    "\n",
    "<img src=\"pic7.png\" width=\"650\" />\n"
   ]
  },
  {
   "cell_type": "markdown",
   "id": "0e8450e3",
   "metadata": {},
   "source": [
    "### Friday disturbances\n",
    "\n",
    "Options will be communicated directly with the groups."
   ]
  },
  {
   "cell_type": "code",
   "execution_count": null,
   "id": "38c69c66",
   "metadata": {},
   "outputs": [],
   "source": []
  }
 ],
 "metadata": {
  "kernelspec": {
   "display_name": "Python 3 (ipykernel)",
   "language": "python",
   "name": "python3"
  },
  "language_info": {
   "codemirror_mode": {
    "name": "ipython",
    "version": 3
   },
   "file_extension": ".py",
   "mimetype": "text/x-python",
   "name": "python",
   "nbconvert_exporter": "python",
   "pygments_lexer": "ipython3",
   "version": "3.9.13"
  }
 },
 "nbformat": 4,
 "nbformat_minor": 5
}
