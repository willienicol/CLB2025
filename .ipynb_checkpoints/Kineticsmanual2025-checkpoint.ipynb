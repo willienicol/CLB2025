{
 "cells": [
  {
   "cell_type": "markdown",
   "id": "e7600ac6",
   "metadata": {},
   "source": [
    "## Manual for Kinetics experiment."
   ]
  },
  {
   "cell_type": "markdown",
   "id": "406881e1",
   "metadata": {},
   "source": [
    "### Setup\n",
    "\n",
    "In this experiment, you will operate a Batch Reactor, Semi-batch reactor and CSTR at various conditions to investigate steady state and transient responses of the system. You will also use the data to estimate the kinetics of the reaction. Your setup is presented in the following diagram:\n",
    "\n",
    "<img src=\"pick1.png\" width=\"600\" />"
   ]
  },
  {
   "cell_type": "markdown",
   "id": "84a204df",
   "metadata": {},
   "source": [
    "### Background on the reaction\n",
    "\n",
    "You will study the homogeneous (non catalysed) saponification reaction of ethyl acetate with sodium hydroxide to form sodium acetate and ethanol:\n",
    "\n",
    "$$ CH_3COOCH_2CH_3 + NaOH \\to CH_3COONa+CH_3CH_2OH $$\n",
    "\n",
    "$$ A+B \\to C+D$$\n",
    "\n",
    "The reaction is irreversible and accordingly the reaction rate is only a function of the two reactant concentrations and the temperature. The reaction will start whenever the ethyl acetate mixture gets in contact with the sodium hydroxide mixture. The reaction is known to exibit elementary kinetics and the rate expression is given by:\n",
    "\n",
    "$$-r_A=kC_AC_B$$\n",
    "\n",
    "This implies that the reaction is first order with respect to each of the reagent concentrations.\n",
    "\n",
    "You are expected to determine the the k-value at the specific temperature of your experiment."
   ]
  },
  {
   "cell_type": "markdown",
   "id": "54520ebc",
   "metadata": {},
   "source": [
    "### Experimental details\n",
    "\n",
    "You will be supplied with 3 liters each of 0.08 mol/L ethyl acetate (A mixture) and 0.04 mol/L of NaOH. \n",
    "\n",
    "Ensure to run a batch experiment in a seperate beaker (no stirring required) where equal amounts of the two solutions are added at the start. Add the NaoH first and obtain the EC reading before adding the ethyl acetate. Monitor this reaction with your second probe for the first 60 minutes. You will require a stabilised reading at the end of this run to determine the parameters required to infer concentration from EC (see below). \n",
    "\n",
    "The pump should be set to 5ml/min (for each tube) for the first 60 minutes and 10ml/min thereafter. This implies that the total flow rate to the first CSTR is 10ml/min for the first hour and 20ml/min for the second part of experiment. **The flow to the second CSTR will only commence after 60 min.**\n",
    "\n",
    "The experiment will start with the beaker filled with 70 ml of distilled water (almost zero electrical conductivity). Ensure to monitor conductivity as the beaker fills and starts overflowing into the exit tube. Note that we switch for semi-batch to continuous when the overflow commences. After 60 min you will connect the outflow to the second CSTR (initially filled with 150ml of distilled water) and set the pump to 10ml/min for both feeds. From 60 min you will also monitor the conductivity of the second probe in the second vessel  \n",
    "\n",
    "Given that both reagent flows get mixed into the CSTR the inlet concentration to the first CSTR will be 0.02 mol/L of NaOH (reagent A) and 0.04 mol/l of ethyl acetate (reagent B) at all times. The EC (electrical conductivity) measurements in the reactor will be recorded at regular time intervals as time progresses.\n",
    "\n",
    "Note that both NaOH (A) and sodium acetate (C) contribute to EC. The conductivity of A is more than the conductivity of C and accordingly, EC will drop as conversion takes place. EC can be presented by:\n",
    "\n",
    "$$EC=c_1C_{A}+c_2C_C$$\n",
    "\n",
    "where:\n",
    "\n",
    "$$c_1=\\frac{K_{C_{Ao}}}{C_{Ao}}$$\n",
    "\n",
    "and\n",
    "\n",
    "$$c_2=\\frac{K_{C_{Cf}}}{C_{Cf}}$$\n",
    "\n",
    "Note that $C_{Cf}$ is the final concentration of sodium acetate (C) from the batch run performed.\n",
    "\n",
    "The experiment will be performed at ambient temperature and it is crucial to measure temperature at all times. \n"
   ]
  },
  {
   "cell_type": "markdown",
   "id": "325ad858",
   "metadata": {},
   "source": [
    "### Fitting the k-value in Pyhon\n",
    "\n",
    "Before entering the lab you need a model to predict how concentrations vary with time. The only unknown in the model will be the k-value of the kinetic expression. As an initial guess, you can use k-value at of 9 $\\frac{liter}{mol \\cdot min}$. You need to develop a model that fits the data over the whole timespan by varying k."
   ]
  },
  {
   "cell_type": "markdown",
   "id": "dd7a116e",
   "metadata": {},
   "source": [
    "### Reporting on your experimental results\n",
    "\n",
    "You need to prepare a 15-minute presentation showcasing your results and analysis. Both the A and B parts of the group will perform a presentation. A timeslot will be scheduled for this activity. "
   ]
  },
  {
   "cell_type": "code",
   "execution_count": null,
   "id": "0eef2e74",
   "metadata": {},
   "outputs": [],
   "source": []
  }
 ],
 "metadata": {
  "kernelspec": {
   "display_name": "Python 3 (ipykernel)",
   "language": "python",
   "name": "python3"
  },
  "language_info": {
   "codemirror_mode": {
    "name": "ipython",
    "version": 3
   },
   "file_extension": ".py",
   "mimetype": "text/x-python",
   "name": "python",
   "nbconvert_exporter": "python",
   "pygments_lexer": "ipython3",
   "version": "3.9.13"
  }
 },
 "nbformat": 4,
 "nbformat_minor": 5
}
