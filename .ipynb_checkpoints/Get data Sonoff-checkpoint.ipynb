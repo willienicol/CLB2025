{
 "cells": [
  {
   "cell_type": "code",
   "execution_count": 1,
   "id": "96e586ef",
   "metadata": {},
   "outputs": [
    {
     "name": "stdout",
     "output_type": "stream",
     "text": [
      "Error processing T1.csv: NaTType does not support strftime\n",
      "Error processing T2.csv: NaTType does not support strftime\n",
      "Error processing T3.csv: NaTType does not support strftime\n",
      "Error processing T4.csv: NaTType does not support strftime\n",
      "Error processing T5.csv: NaTType does not support strftime\n",
      "Error processing T6.csv: NaTType does not support strftime\n",
      "Error processing T7.csv: NaTType does not support strftime\n",
      "Error processing T8.csv: NaTType does not support strftime\n",
      "Error processing T9.csv: NaTType does not support strftime\n",
      "Error processing T10.csv: NaTType does not support strftime\n"
     ]
    },
    {
     "ename": "IndexError",
     "evalue": "list index out of range",
     "output_type": "error",
     "traceback": [
      "\u001b[1;31m---------------------------------------------------------------------------\u001b[0m",
      "\u001b[1;31mIndexError\u001b[0m                                Traceback (most recent call last)",
      "\u001b[1;32m~\\AppData\\Local\\Temp\\ipykernel_4808\\3728382091.py\u001b[0m in \u001b[0;36m<module>\u001b[1;34m\u001b[0m\n\u001b[0;32m     57\u001b[0m \u001b[1;33m\u001b[0m\u001b[0m\n\u001b[0;32m     58\u001b[0m \u001b[1;31m# Combine all data\u001b[0m\u001b[1;33m\u001b[0m\u001b[1;33m\u001b[0m\u001b[0m\n\u001b[1;32m---> 59\u001b[1;33m \u001b[0mcombined\u001b[0m \u001b[1;33m=\u001b[0m \u001b[0mall_data\u001b[0m\u001b[1;33m[\u001b[0m\u001b[1;36m0\u001b[0m\u001b[1;33m]\u001b[0m\u001b[1;33m\u001b[0m\u001b[1;33m\u001b[0m\u001b[0m\n\u001b[0m\u001b[0;32m     60\u001b[0m \u001b[1;32mfor\u001b[0m \u001b[0mdf\u001b[0m \u001b[1;32min\u001b[0m \u001b[0mall_data\u001b[0m\u001b[1;33m[\u001b[0m\u001b[1;36m1\u001b[0m\u001b[1;33m:\u001b[0m\u001b[1;33m]\u001b[0m\u001b[1;33m:\u001b[0m\u001b[1;33m\u001b[0m\u001b[1;33m\u001b[0m\u001b[0m\n\u001b[0;32m     61\u001b[0m     \u001b[0mcombined\u001b[0m \u001b[1;33m=\u001b[0m \u001b[0mcombined\u001b[0m\u001b[1;33m.\u001b[0m\u001b[0mmerge\u001b[0m\u001b[1;33m(\u001b[0m\u001b[0mdf\u001b[0m\u001b[1;33m,\u001b[0m \u001b[0mon\u001b[0m\u001b[1;33m=\u001b[0m\u001b[1;34m'date'\u001b[0m\u001b[1;33m,\u001b[0m \u001b[0mhow\u001b[0m\u001b[1;33m=\u001b[0m\u001b[1;34m'outer'\u001b[0m\u001b[1;33m)\u001b[0m\u001b[1;33m\u001b[0m\u001b[1;33m\u001b[0m\u001b[0m\n",
      "\u001b[1;31mIndexError\u001b[0m: list index out of range"
     ]
    }
   ],
   "source": [
    "import pandas as pd\n",
    "import os\n",
    "\n",
    "# Map file numbers to sensor names\n",
    "sensor_names = {\n",
    "    1: 'ambient',\n",
    "    2: 'soilcold',\n",
    "    3: 'c2l',\n",
    "    4: 'c2g',\n",
    "    5: 'c2t',\n",
    "    6: 'c2s',\n",
    "    7: 'c3l',\n",
    "    8: 'c3g',\n",
    "    9: 'cst',\n",
    "    10: 'c3s'\n",
    "}\n",
    "\n",
    "# Verify files exist\n",
    "for i in range(1, 11):\n",
    "    if not os.path.exists(f\"T{i}.csv\"):\n",
    "        print(f\"Error: Missing file T{i}.csv\")\n",
    "        exit()\n",
    "\n",
    "# Read and process files\n",
    "all_data = []\n",
    "for i in range(1, 11):\n",
    "    file_path = f\"T{i}.csv\"\n",
    "    sensor = sensor_names[i]\n",
    "    \n",
    "    try:\n",
    "        # Skip first row (header) and read data\n",
    "        df = pd.read_csv(file_path, header=None, skiprows=1, names=['date', sensor])\n",
    "        \n",
    "        # Convert date to datetime - handle different formats\n",
    "        df['date'] = pd.to_datetime(df['date'], errors='coerce')\n",
    "        \n",
    "        # Drop rows with invalid dates\n",
    "        df = df.dropna(subset=['date'])\n",
    "        \n",
    "        # Calculate ranges\n",
    "        date_min = df['date'].min().strftime('%Y-%m-%d')\n",
    "        date_max = df['date'].max().strftime('%Y-%m-%d')\n",
    "        temp_min = df[sensor].min()\n",
    "        temp_max = df[sensor].max()\n",
    "        \n",
    "        print(f\"{sensor} (T{i}.csv):\")\n",
    "        print(f\"  Dates: {date_min} to {date_max}\")\n",
    "        print(f\"  Temperatures: {temp_min:.2f}°C to {temp_max:.2f}°C\")\n",
    "        print(f\"  Valid rows: {len(df)}\")\n",
    "        print()\n",
    "        \n",
    "        all_data.append(df)\n",
    "        \n",
    "    except Exception as e:\n",
    "        print(f\"Error processing {file_path}: {str(e)}\")\n",
    "        exit()\n",
    "\n",
    "# Combine all data\n",
    "combined = all_data[0]\n",
    "for df in all_data[1:]:\n",
    "    combined = combined.merge(df, on='date', how='outer')\n",
    "\n",
    "# Sort chronologically\n",
    "combined = combined.sort_values('date').reset_index(drop=True)\n",
    "\n",
    "# Calculate overall ranges\n",
    "all_dates = pd.concat([df['date'] for df in all_data])\n",
    "all_temps = pd.concat([df[col] for df, col in zip(all_data, sensor_names.values())])\n",
    "\n",
    "print(\"=\"*50)\n",
    "print(\"Overall date range:\", all_dates.min().strftime('%Y-%m-%d'), \"to\", all_dates.max().strftime('%Y-%m-%d'))\n",
    "print(\"Overall temperature range:\", f\"{all_temps.min():.2f}°C to {all_temps.max():.2f}°C\")\n",
    "print(f\"Total records in combined data: {len(combined)}\")\n",
    "\n",
    "# Save results\n",
    "combined.to_csv('combined_temperatures.csv', index=False)\n",
    "print(\"\\nCombined data saved to 'combined_temperatures.csv'\")\n",
    "print(\"Columns:\", combined.columns.tolist())"
   ]
  },
  {
   "cell_type": "code",
   "execution_count": null,
   "id": "7dc5edc9",
   "metadata": {},
   "outputs": [],
   "source": []
  }
 ],
 "metadata": {
  "kernelspec": {
   "display_name": "Python 3 (ipykernel)",
   "language": "python",
   "name": "python3"
  },
  "language_info": {
   "codemirror_mode": {
    "name": "ipython",
    "version": 3
   },
   "file_extension": ".py",
   "mimetype": "text/x-python",
   "name": "python",
   "nbconvert_exporter": "python",
   "pygments_lexer": "ipython3",
   "version": "3.9.13"
  }
 },
 "nbformat": 4,
 "nbformat_minor": 5
}
