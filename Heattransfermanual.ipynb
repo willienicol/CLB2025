{
 "cells": [
  {
   "cell_type": "markdown",
   "id": "a08eff4e",
   "metadata": {},
   "source": [
    "# Heat Transfer Practical:\n"
   ]
  },
  {
   "cell_type": "markdown",
   "id": "238461a8",
   "metadata": {},
   "source": [
    "## Introduction\n",
    "\n",
    "Okay students. Most of you completed CBI 310 and are familiar with the SLUMBAG project on anaerobic digestion. For those who still need to take CBI 310, the project focuses on developing an affordable biogas (cooking gas) system from organic waste for African informal settlements. We're currently prototyping this on the UP experimental farm using an 800L digester bag partially buried in the ground. Here is a picture of the the 'big babies':\n",
    "\n",
    "<img src=\"pic2.png\" width=\"850\" />\n",
    "\n",
    "One major challenge in prototype development is temperature control. Since townships lack electricity, solar energy is our only heat source. Consequently, the critical question is whether sufficient biogas can be produced during winter. Our analysis indicates that sustained digestion requires an average daily temperature ≥22°C. July's average air temperature is approximately 11°C – making solar heat capture essential.\n",
    "\n",
    "You'll assist by studying a full-scale water-based thermal model of the digester at the UP experimental farm. All temperature data will be logged remotely, with your primary focus on data modeling, interpretation, and winter operational projections. Note: You'll need to visit the farm (5 minutes from campus) for equipment familiarization and to induce a thermal step-change during your 10-day data collection period.\n",
    "\n",
    "<img src=\"pic3.png\" width=\"650\" />\n",
    "\n",
    "<img src=\"pic5.png\" width=\"450\" />\n"
   ]
  },
  {
   "cell_type": "markdown",
   "id": "bb1a0338",
   "metadata": {},
   "source": [
    "## How will it work?\n",
    "\n",
    "Your group will collect data from both experimental setups over a 10-day period, running from Monday to the following Wednesday.The joint analysis session and executive report will follow afterwards.\n",
    "\n",
    "### 📅 Data Collection Timeline  \n",
    "- **Duration**: 10 days (Monday → Following Wednesday)  \n",
    "- **Overlap Period**: Days 1-3 (Mon-Wed) shared with rotating groups  \n",
    "- **Critical Dates**:  \n",
    "  - `Week 1 Wednesday 11:00`: Mandatory on-site meeting (see schedule)  \n",
    "  - `Week 1 Friday`: Thermal step-change intervention (*selected members*)  \n",
    "  \n",
    "  \n",
    "### 📋 Deliverables\n",
    "\n",
    "### 1. 🗣️ Joint Analysis Session\n",
    "- **Format**: 2-hour session with William + peer group  \n",
    "- **Purpose**: Model critique & validation  \n",
    "- **Participants**: Your group + another project group  \n",
    "\n",
    "### 2. 📄 Executive Report\n",
    "- **Content**: Consolidated findings (≤3 pages)  \n",
    "- **Deadline**: 48 hours post-feedback session  \n",
    "- **Required elements**:  \n",
    "  •  Model calibration results  \n",
    "  •  Winter-operations projections  \n",
    "  •  Peer-feedback integration  \n",
    "  \n",
    "### 3. 📅 Schedule\n",
    "\n",
    "<img src=\"pic4.png\" width=\"850\" />"
   ]
  },
  {
   "cell_type": "markdown",
   "id": "1cd14591",
   "metadata": {},
   "source": [
    "## How to model the ‘Slumbug’\n",
    "\n",
    "To initiate the modeling approach, we propose assuming homogeneous temperatures in these distinct domains:  \n",
    "- **Digestate/water liquid (D)**  \n",
    "- **Tent enclosure (T)**  \n",
    "- **Soil matrix (S)**  \n",
    "- **Biogas/air headspace (G)**  \n",
    "- **Ambient air (A)** \n",
    "\n",
    "<img src=\"pic6.png\" width=\"850\" />\n",
    "\n",
    "### Temperature Measurements\n",
    "- All indicated temperatures (D, T, S, G, A) will be experimentally measured  \n",
    "- Measurements will exhibit **diurnal cycles**:  \n",
    "  - Daytime temperature increase  \n",
    "  - Nighttime temperature decrease  \n",
    "- This cyclic pattern will be clearly visible in the time-series data  \n",
    "\n",
    "### Heat Transfer Model Formulation\n",
    "The simplest heat transfer model follows Newton's law of cooling:  \n",
    "\n",
    "$$ Q = h \\cdot A \\cdot \\Delta T $$  \n",
    "\n",
    "where:  \n",
    "- $Q$ = Heat transfer rate [W]  \n",
    "- $h$ = Effective heat transfer coefficient [W/m²·K], we also use k  \n",
    "- $A$ = Heat transfer area [m²]  \n",
    "- $\\Delta T$ = Temperature gradient [K]  \n",
    "\n",
    "#### Key Assumptions:  \n",
    "1. $h$ represents a **lumped parameter** combining:  \n",
    "   - Conductive effects  \n",
    "   - Convective effects  \n",
    "2. First-order approximation treats $h$ as constant  \n",
    "3. Area $A$ remains constant for each interface  \n"
   ]
  },
  {
   "cell_type": "markdown",
   "id": "cdd14ea8",
   "metadata": {},
   "source": [
    "### Simplified model:\n",
    "\n",
    "**Liquid temperature (T<sub>D</sub>)** is the primary driver of anaerobic digestion kinetics  \n",
    "- Accurate prediction of T<sub>D</sub> is therefore the central modeling objective  \n",
    "\n",
    "The energy balance over the bag can be significantly simplified if we assume that **T<sub>D</sub>** is equal to **T<sub>G</sub>**. For this we have the following equation:\n",
    "\n",
    "$$m_D Cp_w \\frac{dT_D}{dt}= k_1 A_1(T_S -T_D)+h_1 A_2(T_T-T_D)+q_1$$\n",
    "\n",
    "Without giving specifications, do you understand the terms? VERY important to be consistent with your units (also no help available here). Only comment I make will be on **q<sub>1</sub>**. This is the sunlight that penetrates the transparrent bag and gets absorbed into the bag. You will also be supplied with sun radiance data which can be used to determine the time dependancy of **q<sub>1</sub>**  \n"
   ]
  },
  {
   "cell_type": "markdown",
   "id": "c739c917",
   "metadata": {},
   "source": [
    "### Extending the model\n",
    "\n",
    "Instead of taking the tent temperature **T<sub>T</sub>** as an input, we can extend the model to include the tent, since the energy balance over the air in the tent is given by:\n",
    "\n",
    "$$m_{air} Cp_{air} \\frac{dT_T}{dt}= k_2 A_3(T_S -T_T)+h_2 A_4(T_A-T_T)+q_2$$\n",
    "\n",
    "In this model we will be predicting **T<sub>D</sub>** and **T<sub>T</sub>**. Once again, figure out the units and parameters.Note that **q<sub>2</sub>** is the sunlight heat absorbed into the the air temperature. Like **q<sub>1</sub>** it can be directly related to the sun radiance data supplied. "
   ]
  },
  {
   "cell_type": "markdown",
   "id": "9bbac3d1",
   "metadata": {},
   "source": [
    "### Getting started with your model\n",
    "\n",
    "When constructing your model, note that it will involve solving differential equations over a 10-day period. Follow these key steps:\n",
    "\n",
    "**1) Parameter Initialization:**\n",
    "\n",
    "Begin by establishing realistic estimates for all equation parameters. Refine these iteratively during model calibration.\n",
    "\n",
    "**2) Precision in Calculations:**\n",
    "\n",
    "Ensure rigorous unit conversions and accurate area computations throughout the implementation.\n",
    "\n",
    "**3) Time-Dependent Input Handling:**\n",
    "Incorporate measured temperature and radiance data as time-varying inputs. Implement a dedicated interpolation function that:\n",
    "\n",
    "Accepts timestamped field measurements\n",
    "\n",
    "Performs linear interpolation between data points\n",
    "\n",
    "Returns values for any specific time within the 10-day range\n",
    "\n",
    "**4) Model Integration:**\n",
    "\n",
    "Design your differential equations to call this interpolation function when requiring temperature/radiance inputs during simulations.\n",
    "\n",
    "**5) Data Utilization Strategy:**\n",
    "\n",
    "Distinguish between:\n",
    "\n",
    "Inputs to the model: External measurements driving simulations\n",
    "\n",
    "Validation metrics: Independent measurements (e.g., **T<sub>D</sub>**, **T<sub>T</sub>**) reserved for testing model accuracy\n"
   ]
  },
  {
   "cell_type": "markdown",
   "id": "43f991ac",
   "metadata": {},
   "source": [
    "### More advanced modeling considerations \n",
    "\n",
    "To improve your model fit the following is suggested.\n",
    "\n",
    "1)\tModel heat transfer to soil as conduction through soil only\n",
    "\n",
    "2)\tIncorporate radiative heat losses from tent surface\n",
    "\n",
    "3)\tDetermine q based on established sun radiation data. The sun delivers in the order of 1000 $\\frac{W}{m^2}$\n",
    "\n",
    "4)\tIncorporate wind chill factor on **h<sub>2</sub>** estimation \n"
   ]
  },
  {
   "cell_type": "markdown",
   "id": "017bb3cd",
   "metadata": {},
   "source": [
    "### Dimensions of the bag\n",
    "\n",
    "Hole length: 225 cm\n",
    "\n",
    "Hole depth: 55 cm\n",
    "\n",
    "Hole width: 90 cm\n",
    "\n",
    "Tent length: 300 cm\n",
    "\n",
    "Tent width: 180cm\n"
   ]
  },
  {
   "cell_type": "markdown",
   "id": "0e8450e3",
   "metadata": {},
   "source": [
    "### Friday disturbances\n",
    "\n",
    "Options will be communicated directly with the groups."
   ]
  },
  {
   "cell_type": "code",
   "execution_count": 1,
   "id": "6233818f",
   "metadata": {},
   "outputs": [
    {
     "ename": "SyntaxError",
     "evalue": "invalid syntax (275078272.py, line 1)",
     "output_type": "error",
     "traceback": [
      "\u001b[1;36m  File \u001b[1;32m\"C:\\Users\\u02593084\\AppData\\Local\\Temp\\ipykernel_18052\\275078272.py\"\u001b[1;36m, line \u001b[1;32m1\u001b[0m\n\u001b[1;33m    jupyter nbconvert Heat transfer manual.ipynb --to html\u001b[0m\n\u001b[1;37m            ^\u001b[0m\n\u001b[1;31mSyntaxError\u001b[0m\u001b[1;31m:\u001b[0m invalid syntax\n"
     ]
    }
   ],
   "source": [
    "jupyter nbconvert Heat transfer manual.ipynb --to html"
   ]
  },
  {
   "cell_type": "code",
   "execution_count": null,
   "id": "38c69c66",
   "metadata": {},
   "outputs": [],
   "source": []
  }
 ],
 "metadata": {
  "kernelspec": {
   "display_name": "Python 3 (ipykernel)",
   "language": "python",
   "name": "python3"
  },
  "language_info": {
   "codemirror_mode": {
    "name": "ipython",
    "version": 3
   },
   "file_extension": ".py",
   "mimetype": "text/x-python",
   "name": "python",
   "nbconvert_exporter": "python",
   "pygments_lexer": "ipython3",
   "version": "3.9.13"
  }
 },
 "nbformat": 4,
 "nbformat_minor": 5
}
